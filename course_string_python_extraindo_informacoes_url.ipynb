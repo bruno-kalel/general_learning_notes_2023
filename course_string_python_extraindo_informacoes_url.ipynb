{
  "nbformat": 4,
  "nbformat_minor": 0,
  "metadata": {
    "colab": {
      "provenance": [],
      "authorship_tag": "ABX9TyPcd40FfmGysUXPjmnnml+r"
    },
    "kernelspec": {
      "name": "python3",
      "display_name": "Python 3"
    },
    "language_info": {
      "name": "python"
    }
  },
  "cells": [
    {
      "cell_type": "markdown",
      "source": [
        "Curso de<br>\n",
        "String em Python: extraindo informações de uma URL<br>\n",
        "`https://cursos.alura.com.br/course/string-python-extraindo-informacoes-url`"
      ],
      "metadata": {
        "id": "TVVvz7n-wnoX"
      }
    },
    {
      "cell_type": "markdown",
      "source": [
        "Bloco 01<br>\n",
        "Introdução e fatiamento de strings"
      ],
      "metadata": {
        "id": "nlDzRRj_6SEL"
      }
    },
    {
      "cell_type": "code",
      "source": [
        "url = 'https://conversor.com/cambio?origem=real&destino=dolar&quantidade=100'"
      ],
      "metadata": {
        "id": "jX-gya8Pzjtb"
      },
      "execution_count": null,
      "outputs": []
    },
    {
      "cell_type": "code",
      "source": [
        "print(url)"
      ],
      "metadata": {
        "colab": {
          "base_uri": "https://localhost:8080/"
        },
        "id": "cwTvNDb61-Z8",
        "outputId": "be719846-3dc1-4413-b184-1e8c78457dd3"
      },
      "execution_count": null,
      "outputs": [
        {
          "output_type": "stream",
          "name": "stdout",
          "text": [
            "https://conversor.com/cambio?origem=real&destino=dolar&quantidade=100\n"
          ]
        }
      ]
    },
    {
      "cell_type": "code",
      "source": [
        "texto = 'abcde'"
      ],
      "metadata": {
        "id": "Nj_r31BK2yF4"
      },
      "execution_count": null,
      "outputs": []
    },
    {
      "cell_type": "code",
      "source": [
        "texto[0]"
      ],
      "metadata": {
        "colab": {
          "base_uri": "https://localhost:8080/",
          "height": 35
        },
        "id": "x9MXAFgd4yF3",
        "outputId": "34bcf14f-8941-4a8a-9cf9-913ba22544d5"
      },
      "execution_count": null,
      "outputs": [
        {
          "output_type": "execute_result",
          "data": {
            "text/plain": [
              "'a'"
            ],
            "application/vnd.google.colaboratory.intrinsic+json": {
              "type": "string"
            }
          },
          "metadata": {},
          "execution_count": 4
        }
      ]
    },
    {
      "cell_type": "code",
      "source": [
        "texto[0:1]"
      ],
      "metadata": {
        "colab": {
          "base_uri": "https://localhost:8080/",
          "height": 35
        },
        "id": "AgWDbTr74y8n",
        "outputId": "9e9983f1-ce16-4df9-a328-f3fe9633a3d2"
      },
      "execution_count": null,
      "outputs": [
        {
          "output_type": "execute_result",
          "data": {
            "text/plain": [
              "'a'"
            ],
            "application/vnd.google.colaboratory.intrinsic+json": {
              "type": "string"
            }
          },
          "metadata": {},
          "execution_count": 5
        }
      ]
    },
    {
      "cell_type": "code",
      "source": [
        "texto[0:2]"
      ],
      "metadata": {
        "colab": {
          "base_uri": "https://localhost:8080/",
          "height": 35
        },
        "id": "Ti2lv21-40fW",
        "outputId": "57df315c-f85c-4b64-c627-0dc2f6235870"
      },
      "execution_count": null,
      "outputs": [
        {
          "output_type": "execute_result",
          "data": {
            "text/plain": [
              "'ab'"
            ],
            "application/vnd.google.colaboratory.intrinsic+json": {
              "type": "string"
            }
          },
          "metadata": {},
          "execution_count": 6
        }
      ]
    },
    {
      "cell_type": "code",
      "source": [
        "url = 'conversor.com/cambio?origem=real'"
      ],
      "metadata": {
        "id": "UPYf5OIj42ke"
      },
      "execution_count": null,
      "outputs": []
    },
    {
      "cell_type": "code",
      "source": [
        "url[0:20]"
      ],
      "metadata": {
        "colab": {
          "base_uri": "https://localhost:8080/",
          "height": 35
        },
        "id": "8fAs3aWO5cwO",
        "outputId": "b6bb0441-cf09-4d14-e4f1-db5fbc83e000"
      },
      "execution_count": null,
      "outputs": [
        {
          "output_type": "execute_result",
          "data": {
            "text/plain": [
              "'conversor.com/cambio'"
            ],
            "application/vnd.google.colaboratory.intrinsic+json": {
              "type": "string"
            }
          },
          "metadata": {},
          "execution_count": 8
        }
      ]
    },
    {
      "cell_type": "code",
      "source": [
        "url[21:39]"
      ],
      "metadata": {
        "colab": {
          "base_uri": "https://localhost:8080/",
          "height": 35
        },
        "id": "-7V0GMe55hV8",
        "outputId": "92973d5c-1819-4d7c-8b74-d9a0cb142244"
      },
      "execution_count": null,
      "outputs": [
        {
          "output_type": "execute_result",
          "data": {
            "text/plain": [
              "'origem=real'"
            ],
            "application/vnd.google.colaboratory.intrinsic+json": {
              "type": "string"
            }
          },
          "metadata": {},
          "execution_count": 9
        }
      ]
    },
    {
      "cell_type": "markdown",
      "source": [
        "Bloco 02<br>\n",
        "Utilizando métodos de strings"
      ],
      "metadata": {
        "id": "jZov85wE8Lt1"
      }
    },
    {
      "cell_type": "code",
      "source": [
        "url = 'conversor.com/cambio?qntd=100&moedaOrigem=real&moedaDestino=dolar'"
      ],
      "metadata": {
        "id": "8Sp3N2dyFPq0"
      },
      "execution_count": null,
      "outputs": []
    },
    {
      "cell_type": "code",
      "source": [
        "# separar base e parâmetros\n",
        "\n",
        "indice_interrogacao = url.find('?')\n",
        "url_base = url[:indice_interrogacao]\n",
        "url_parametros = url[indice_interrogacao+1:]\n",
        "print(url_parametros)"
      ],
      "metadata": {
        "colab": {
          "base_uri": "https://localhost:8080/"
        },
        "id": "ajDt5u5pFYAJ",
        "outputId": "6e77d065-54d4-4b20-ee8f-85482574b123"
      },
      "execution_count": null,
      "outputs": [
        {
          "output_type": "stream",
          "name": "stdout",
          "text": [
            "qntd=100&moedaOrigem=real&moedaDestino=dolar\n"
          ]
        }
      ]
    },
    {
      "cell_type": "code",
      "source": [
        "# buscar o valor de um parâmetro\n",
        "\n",
        "parametro_busca = 'qntd'\n",
        "indice_parametro = url_parametros.find(parametro_busca)\n",
        "indice_valor = indice_parametro + len(parametro_busca) + 1\n",
        "indice_e_comercial = url_parametros.find('&', indice_valor)\n",
        "\n",
        "if indice_e_comercial == -1:\n",
        "  valor = url_parametros[indice_valor:]\n",
        "else:\n",
        "  valor = url_parametros[indice_valor:indice_e_comercial]\n",
        "\n",
        "print(valor)"
      ],
      "metadata": {
        "colab": {
          "base_uri": "https://localhost:8080/"
        },
        "id": "KrTGqK-0FkX0",
        "outputId": "ae3c4b0f-bd77-4a36-bff3-0155a15a9e4c"
      },
      "execution_count": null,
      "outputs": [
        {
          "output_type": "stream",
          "name": "stdout",
          "text": [
            "100\n"
          ]
        }
      ]
    },
    {
      "cell_type": "code",
      "source": [
        "# buscar o valor de um parâmetro\n",
        "\n",
        "parametro_busca = 'moedaOrigem'\n",
        "indice_parametro = url_parametros.find(parametro_busca)\n",
        "indice_valor = indice_parametro + len(parametro_busca) + 1\n",
        "indice_e_comercial = url_parametros.find('&', indice_valor)\n",
        "\n",
        "if indice_e_comercial == -1:\n",
        "  valor = url_parametros[indice_valor:]\n",
        "else:\n",
        "  valor = url_parametros[indice_valor:indice_e_comercial]\n",
        "\n",
        "print(valor)"
      ],
      "metadata": {
        "colab": {
          "base_uri": "https://localhost:8080/"
        },
        "id": "U24B2h5fGAxA",
        "outputId": "9a307551-b42e-4573-c545-010e7ad952d1"
      },
      "execution_count": null,
      "outputs": [
        {
          "output_type": "stream",
          "name": "stdout",
          "text": [
            "real\n"
          ]
        }
      ]
    },
    {
      "cell_type": "code",
      "source": [
        "# buscar o valor de um parâmetro\n",
        "\n",
        "parametro_busca = 'moedaDestino'\n",
        "indice_parametro = url_parametros.find(parametro_busca)\n",
        "indice_valor = indice_parametro + len(parametro_busca) + 1\n",
        "indice_e_comercial = url_parametros.find('&', indice_valor)\n",
        "\n",
        "if indice_e_comercial == -1:\n",
        "  valor = url_parametros[indice_valor:]\n",
        "else:\n",
        "  valor = url_parametros[indice_valor:indice_e_comercial]\n",
        "\n",
        "print(valor)"
      ],
      "metadata": {
        "colab": {
          "base_uri": "https://localhost:8080/"
        },
        "id": "NCWL0bEcGk4V",
        "outputId": "c1186daf-97d8-4348-ee21-558ec267c13a"
      },
      "execution_count": null,
      "outputs": [
        {
          "output_type": "stream",
          "name": "stdout",
          "text": [
            "dolar\n"
          ]
        }
      ]
    },
    {
      "cell_type": "markdown",
      "source": [
        "Bloco 03<br>\n",
        "Aplicando Orientação a Objetos no projeto"
      ],
      "metadata": {
        "id": "jWOPSsU-HCxX"
      }
    },
    {
      "cell_type": "code",
      "source": [
        "url = ' '"
      ],
      "metadata": {
        "id": "TMf0fCDIHKZX"
      },
      "execution_count": null,
      "outputs": []
    },
    {
      "cell_type": "code",
      "source": [
        "# sanitização da url\n",
        "url = url.strip()"
      ],
      "metadata": {
        "id": "IBydvkXwLok2"
      },
      "execution_count": null,
      "outputs": []
    },
    {
      "cell_type": "code",
      "source": [
        "# validação da url\n",
        "if url == '':\n",
        "  raise ValueError('url vazia')"
      ],
      "metadata": {
        "colab": {
          "base_uri": "https://localhost:8080/",
          "height": 210
        },
        "id": "Kp9JAzIULsWv",
        "outputId": "976a6cd9-c63d-47db-9d65-653023292f08"
      },
      "execution_count": null,
      "outputs": [
        {
          "output_type": "error",
          "ename": "ValueError",
          "evalue": "ignored",
          "traceback": [
            "\u001b[0;31m---------------------------------------------------------------------------\u001b[0m",
            "\u001b[0;31mValueError\u001b[0m                                Traceback (most recent call last)",
            "\u001b[0;32m<ipython-input-50-8bc44ef8a9b7>\u001b[0m in \u001b[0;36m<cell line: 2>\u001b[0;34m()\u001b[0m\n\u001b[1;32m      1\u001b[0m \u001b[0;31m# validação da url\u001b[0m\u001b[0;34m\u001b[0m\u001b[0;34m\u001b[0m\u001b[0m\n\u001b[1;32m      2\u001b[0m \u001b[0;32mif\u001b[0m \u001b[0murl\u001b[0m \u001b[0;34m==\u001b[0m \u001b[0;34m''\u001b[0m\u001b[0;34m:\u001b[0m\u001b[0;34m\u001b[0m\u001b[0;34m\u001b[0m\u001b[0m\n\u001b[0;32m----> 3\u001b[0;31m   \u001b[0;32mraise\u001b[0m \u001b[0mValueError\u001b[0m\u001b[0;34m(\u001b[0m\u001b[0;34m'url vazia'\u001b[0m\u001b[0;34m)\u001b[0m\u001b[0;34m\u001b[0m\u001b[0;34m\u001b[0m\u001b[0m\n\u001b[0m",
            "\u001b[0;31mValueError\u001b[0m: url vazia"
          ]
        }
      ]
    },
    {
      "cell_type": "code",
      "source": [
        "class Extrator:\n",
        "  def __init__(self, url):\n",
        "    self.url = self.sanitizar(url)\n",
        "    self.validar()\n",
        "\n",
        "  def sanitizar(self, url):\n",
        "    return url.strip()\n",
        "\n",
        "  def validar(self):\n",
        "    if self.url == '':\n",
        "      raise ValueError('url vazia')"
      ],
      "metadata": {
        "id": "GvLqIXADLyAG"
      },
      "execution_count": 1,
      "outputs": []
    },
    {
      "cell_type": "code",
      "source": [
        "e = Extrator('\\n\\n\\n')"
      ],
      "metadata": {
        "id": "Pk7ug5tKoSgO",
        "outputId": "ecf5e72e-a9d7-4559-e0e7-f661e50d537a",
        "colab": {
          "base_uri": "https://localhost:8080/",
          "height": 286
        }
      },
      "execution_count": 2,
      "outputs": [
        {
          "output_type": "error",
          "ename": "ValueError",
          "evalue": "ignored",
          "traceback": [
            "\u001b[0;31m---------------------------------------------------------------------------\u001b[0m",
            "\u001b[0;31mValueError\u001b[0m                                Traceback (most recent call last)",
            "\u001b[0;32m<ipython-input-2-8e021ae8c873>\u001b[0m in \u001b[0;36m<cell line: 1>\u001b[0;34m()\u001b[0m\n\u001b[0;32m----> 1\u001b[0;31m \u001b[0me\u001b[0m \u001b[0;34m=\u001b[0m \u001b[0mExtrator\u001b[0m\u001b[0;34m(\u001b[0m\u001b[0;34m'\\n\\n\\n'\u001b[0m\u001b[0;34m)\u001b[0m\u001b[0;34m\u001b[0m\u001b[0;34m\u001b[0m\u001b[0m\n\u001b[0m",
            "\u001b[0;32m<ipython-input-1-4b13ef9f66c7>\u001b[0m in \u001b[0;36m__init__\u001b[0;34m(self, url)\u001b[0m\n\u001b[1;32m      2\u001b[0m   \u001b[0;32mdef\u001b[0m \u001b[0m__init__\u001b[0m\u001b[0;34m(\u001b[0m\u001b[0mself\u001b[0m\u001b[0;34m,\u001b[0m \u001b[0murl\u001b[0m\u001b[0;34m)\u001b[0m\u001b[0;34m:\u001b[0m\u001b[0;34m\u001b[0m\u001b[0;34m\u001b[0m\u001b[0m\n\u001b[1;32m      3\u001b[0m     \u001b[0mself\u001b[0m\u001b[0;34m.\u001b[0m\u001b[0murl\u001b[0m \u001b[0;34m=\u001b[0m \u001b[0mself\u001b[0m\u001b[0;34m.\u001b[0m\u001b[0msanitizar\u001b[0m\u001b[0;34m(\u001b[0m\u001b[0murl\u001b[0m\u001b[0;34m)\u001b[0m\u001b[0;34m\u001b[0m\u001b[0;34m\u001b[0m\u001b[0m\n\u001b[0;32m----> 4\u001b[0;31m     \u001b[0mself\u001b[0m\u001b[0;34m.\u001b[0m\u001b[0mvalidar\u001b[0m\u001b[0;34m(\u001b[0m\u001b[0;34m)\u001b[0m\u001b[0;34m\u001b[0m\u001b[0;34m\u001b[0m\u001b[0m\n\u001b[0m\u001b[1;32m      5\u001b[0m \u001b[0;34m\u001b[0m\u001b[0m\n\u001b[1;32m      6\u001b[0m   \u001b[0;32mdef\u001b[0m \u001b[0msanitizar\u001b[0m\u001b[0;34m(\u001b[0m\u001b[0mself\u001b[0m\u001b[0;34m,\u001b[0m \u001b[0murl\u001b[0m\u001b[0;34m)\u001b[0m\u001b[0;34m:\u001b[0m\u001b[0;34m\u001b[0m\u001b[0;34m\u001b[0m\u001b[0m\n",
            "\u001b[0;32m<ipython-input-1-4b13ef9f66c7>\u001b[0m in \u001b[0;36mvalidar\u001b[0;34m(self)\u001b[0m\n\u001b[1;32m      9\u001b[0m   \u001b[0;32mdef\u001b[0m \u001b[0mvalidar\u001b[0m\u001b[0;34m(\u001b[0m\u001b[0mself\u001b[0m\u001b[0;34m)\u001b[0m\u001b[0;34m:\u001b[0m\u001b[0;34m\u001b[0m\u001b[0;34m\u001b[0m\u001b[0m\n\u001b[1;32m     10\u001b[0m     \u001b[0;32mif\u001b[0m \u001b[0mself\u001b[0m\u001b[0;34m.\u001b[0m\u001b[0murl\u001b[0m \u001b[0;34m==\u001b[0m \u001b[0;34m''\u001b[0m\u001b[0;34m:\u001b[0m\u001b[0;34m\u001b[0m\u001b[0;34m\u001b[0m\u001b[0m\n\u001b[0;32m---> 11\u001b[0;31m       \u001b[0;32mraise\u001b[0m \u001b[0mValueError\u001b[0m\u001b[0;34m(\u001b[0m\u001b[0;34m'url vazia'\u001b[0m\u001b[0;34m)\u001b[0m\u001b[0;34m\u001b[0m\u001b[0;34m\u001b[0m\u001b[0m\n\u001b[0m",
            "\u001b[0;31mValueError\u001b[0m: url vazia"
          ]
        }
      ]
    },
    {
      "cell_type": "code",
      "source": [
        "e = Extrator('cursos.alura.com.br')"
      ],
      "metadata": {
        "id": "8ofruaJXoXkM"
      },
      "execution_count": 3,
      "outputs": []
    },
    {
      "cell_type": "code",
      "source": [
        "class Extrator:\n",
        "  def __init__(self, url):\n",
        "    self.url = self.sanitizar(url)\n",
        "    self.validar()\n",
        "\n",
        "  def sanitizar(self, url):\n",
        "    if url:\n",
        "      return url.strip()\n",
        "    else:\n",
        "      return ''\n",
        "\n",
        "  def validar(self):\n",
        "    if not self.url:\n",
        "      raise ValueError('url vazia')\n",
        "\n",
        "  def get_base(self):\n",
        "    indice_interrogacao = self.url.find('?')\n",
        "    base = self.url[:indice_interrogacao]\n",
        "    return base\n",
        "\n",
        "  def get_parametro(self):\n",
        "    indice_interrogacao = self.url.find('?')\n",
        "    parametro = self.url[indice_interrogacao + 1:]\n",
        "    return parametro\n",
        "\n",
        "  def get_valor(self, parametro):\n",
        "    indice_parametro = self.get_parametro().find(parametro)\n",
        "    indice_valor = indice_parametro + len(parametro) + 1\n",
        "    indice_e_comercial = self.get_parametro().find('&', indice_valor)\n",
        "    if indice_e_comercial == -1:\n",
        "      valor = self.get_parametro()[indice_valor:]\n",
        "    else:\n",
        "      valor = self.get_parametro()[indice_valor:indice_e_comercial]\n",
        "    return valor"
      ],
      "metadata": {
        "id": "7RFZRj0vofzr"
      },
      "execution_count": 16,
      "outputs": []
    },
    {
      "cell_type": "code",
      "source": [
        "e = Extrator('conversor.com/cambio?qntd=100&moedaOrigem=real&moedaDestino=dolar')"
      ],
      "metadata": {
        "id": "1GYmEuUKqSrg"
      },
      "execution_count": 11,
      "outputs": []
    },
    {
      "cell_type": "code",
      "source": [
        "print(e.get_valor('qntd'))"
      ],
      "metadata": {
        "id": "Ld2Srok1qXrO",
        "outputId": "0d4da13d-aeb6-40dc-e2ec-1a1fb71021ef",
        "colab": {
          "base_uri": "https://localhost:8080/"
        }
      },
      "execution_count": 12,
      "outputs": [
        {
          "output_type": "stream",
          "name": "stdout",
          "text": [
            "100\n"
          ]
        }
      ]
    },
    {
      "cell_type": "code",
      "source": [
        "print(e.get_valor('moedaOrigem'))"
      ],
      "metadata": {
        "id": "uFy52mL4qesA",
        "outputId": "ee53fa7b-0092-4827-b1eb-7cf1d9f0abeb",
        "colab": {
          "base_uri": "https://localhost:8080/"
        }
      },
      "execution_count": 13,
      "outputs": [
        {
          "output_type": "stream",
          "name": "stdout",
          "text": [
            "real\n"
          ]
        }
      ]
    },
    {
      "cell_type": "code",
      "source": [
        "print(e.get_valor('moedaDestino'))"
      ],
      "metadata": {
        "id": "uQZaaKQ6qp2T",
        "outputId": "156d7612-22ed-40b9-bd8f-69e197fb6f46",
        "colab": {
          "base_uri": "https://localhost:8080/"
        }
      },
      "execution_count": 14,
      "outputs": [
        {
          "output_type": "stream",
          "name": "stdout",
          "text": [
            "dolar\n"
          ]
        }
      ]
    },
    {
      "cell_type": "code",
      "source": [
        "e = Extrator(None)"
      ],
      "metadata": {
        "id": "BtPJXoEtswl6",
        "outputId": "a96d4c06-b084-4308-efc6-80b0648e01e3",
        "colab": {
          "base_uri": "https://localhost:8080/",
          "height": 321
        }
      },
      "execution_count": 17,
      "outputs": [
        {
          "output_type": "error",
          "ename": "ValueError",
          "evalue": "ignored",
          "traceback": [
            "\u001b[0;31m---------------------------------------------------------------------------\u001b[0m",
            "\u001b[0;31mValueError\u001b[0m                                Traceback (most recent call last)",
            "\u001b[0;32m<ipython-input-17-fb950473a533>\u001b[0m in \u001b[0;36m<cell line: 1>\u001b[0;34m()\u001b[0m\n\u001b[0;32m----> 1\u001b[0;31m \u001b[0me\u001b[0m \u001b[0;34m=\u001b[0m \u001b[0mExtrator\u001b[0m\u001b[0;34m(\u001b[0m\u001b[0;32mNone\u001b[0m\u001b[0;34m)\u001b[0m\u001b[0;34m\u001b[0m\u001b[0;34m\u001b[0m\u001b[0m\n\u001b[0m",
            "\u001b[0;32m<ipython-input-16-c6f0e364790d>\u001b[0m in \u001b[0;36m__init__\u001b[0;34m(self, url)\u001b[0m\n\u001b[1;32m      2\u001b[0m   \u001b[0;32mdef\u001b[0m \u001b[0m__init__\u001b[0m\u001b[0;34m(\u001b[0m\u001b[0mself\u001b[0m\u001b[0;34m,\u001b[0m \u001b[0murl\u001b[0m\u001b[0;34m)\u001b[0m\u001b[0;34m:\u001b[0m\u001b[0;34m\u001b[0m\u001b[0;34m\u001b[0m\u001b[0m\n\u001b[1;32m      3\u001b[0m     \u001b[0mself\u001b[0m\u001b[0;34m.\u001b[0m\u001b[0murl\u001b[0m \u001b[0;34m=\u001b[0m \u001b[0mself\u001b[0m\u001b[0;34m.\u001b[0m\u001b[0msanitizar\u001b[0m\u001b[0;34m(\u001b[0m\u001b[0murl\u001b[0m\u001b[0;34m)\u001b[0m\u001b[0;34m\u001b[0m\u001b[0;34m\u001b[0m\u001b[0m\n\u001b[0;32m----> 4\u001b[0;31m     \u001b[0mself\u001b[0m\u001b[0;34m.\u001b[0m\u001b[0mvalidar\u001b[0m\u001b[0;34m(\u001b[0m\u001b[0;34m)\u001b[0m\u001b[0;34m\u001b[0m\u001b[0;34m\u001b[0m\u001b[0m\n\u001b[0m\u001b[1;32m      5\u001b[0m \u001b[0;34m\u001b[0m\u001b[0m\n\u001b[1;32m      6\u001b[0m   \u001b[0;32mdef\u001b[0m \u001b[0msanitizar\u001b[0m\u001b[0;34m(\u001b[0m\u001b[0mself\u001b[0m\u001b[0;34m,\u001b[0m \u001b[0murl\u001b[0m\u001b[0;34m)\u001b[0m\u001b[0;34m:\u001b[0m\u001b[0;34m\u001b[0m\u001b[0;34m\u001b[0m\u001b[0m\n",
            "\u001b[0;32m<ipython-input-16-c6f0e364790d>\u001b[0m in \u001b[0;36mvalidar\u001b[0;34m(self)\u001b[0m\n\u001b[1;32m     12\u001b[0m   \u001b[0;32mdef\u001b[0m \u001b[0mvalidar\u001b[0m\u001b[0;34m(\u001b[0m\u001b[0mself\u001b[0m\u001b[0;34m)\u001b[0m\u001b[0;34m:\u001b[0m\u001b[0;34m\u001b[0m\u001b[0;34m\u001b[0m\u001b[0m\n\u001b[1;32m     13\u001b[0m     \u001b[0;32mif\u001b[0m \u001b[0;32mnot\u001b[0m \u001b[0mself\u001b[0m\u001b[0;34m.\u001b[0m\u001b[0murl\u001b[0m\u001b[0;34m:\u001b[0m\u001b[0;34m\u001b[0m\u001b[0;34m\u001b[0m\u001b[0m\n\u001b[0;32m---> 14\u001b[0;31m       \u001b[0;32mraise\u001b[0m \u001b[0mValueError\u001b[0m\u001b[0;34m(\u001b[0m\u001b[0;34m'url vazia'\u001b[0m\u001b[0;34m)\u001b[0m\u001b[0;34m\u001b[0m\u001b[0;34m\u001b[0m\u001b[0m\n\u001b[0m\u001b[1;32m     15\u001b[0m \u001b[0;34m\u001b[0m\u001b[0m\n\u001b[1;32m     16\u001b[0m   \u001b[0;32mdef\u001b[0m \u001b[0mget_base\u001b[0m\u001b[0;34m(\u001b[0m\u001b[0mself\u001b[0m\u001b[0;34m)\u001b[0m\u001b[0;34m:\u001b[0m\u001b[0;34m\u001b[0m\u001b[0;34m\u001b[0m\u001b[0m\n",
            "\u001b[0;31mValueError\u001b[0m: url vazia"
          ]
        }
      ]
    },
    {
      "cell_type": "code",
      "source": [
        "e = Extrator('')"
      ],
      "metadata": {
        "id": "vlt0F1w1s31b",
        "outputId": "8d23a571-35cf-4031-ee61-d760efdcf24a",
        "colab": {
          "base_uri": "https://localhost:8080/",
          "height": 321
        }
      },
      "execution_count": 18,
      "outputs": [
        {
          "output_type": "error",
          "ename": "ValueError",
          "evalue": "ignored",
          "traceback": [
            "\u001b[0;31m---------------------------------------------------------------------------\u001b[0m",
            "\u001b[0;31mValueError\u001b[0m                                Traceback (most recent call last)",
            "\u001b[0;32m<ipython-input-18-5008648b2745>\u001b[0m in \u001b[0;36m<cell line: 1>\u001b[0;34m()\u001b[0m\n\u001b[0;32m----> 1\u001b[0;31m \u001b[0me\u001b[0m \u001b[0;34m=\u001b[0m \u001b[0mExtrator\u001b[0m\u001b[0;34m(\u001b[0m\u001b[0;34m''\u001b[0m\u001b[0;34m)\u001b[0m\u001b[0;34m\u001b[0m\u001b[0;34m\u001b[0m\u001b[0m\n\u001b[0m",
            "\u001b[0;32m<ipython-input-16-c6f0e364790d>\u001b[0m in \u001b[0;36m__init__\u001b[0;34m(self, url)\u001b[0m\n\u001b[1;32m      2\u001b[0m   \u001b[0;32mdef\u001b[0m \u001b[0m__init__\u001b[0m\u001b[0;34m(\u001b[0m\u001b[0mself\u001b[0m\u001b[0;34m,\u001b[0m \u001b[0murl\u001b[0m\u001b[0;34m)\u001b[0m\u001b[0;34m:\u001b[0m\u001b[0;34m\u001b[0m\u001b[0;34m\u001b[0m\u001b[0m\n\u001b[1;32m      3\u001b[0m     \u001b[0mself\u001b[0m\u001b[0;34m.\u001b[0m\u001b[0murl\u001b[0m \u001b[0;34m=\u001b[0m \u001b[0mself\u001b[0m\u001b[0;34m.\u001b[0m\u001b[0msanitizar\u001b[0m\u001b[0;34m(\u001b[0m\u001b[0murl\u001b[0m\u001b[0;34m)\u001b[0m\u001b[0;34m\u001b[0m\u001b[0;34m\u001b[0m\u001b[0m\n\u001b[0;32m----> 4\u001b[0;31m     \u001b[0mself\u001b[0m\u001b[0;34m.\u001b[0m\u001b[0mvalidar\u001b[0m\u001b[0;34m(\u001b[0m\u001b[0;34m)\u001b[0m\u001b[0;34m\u001b[0m\u001b[0;34m\u001b[0m\u001b[0m\n\u001b[0m\u001b[1;32m      5\u001b[0m \u001b[0;34m\u001b[0m\u001b[0m\n\u001b[1;32m      6\u001b[0m   \u001b[0;32mdef\u001b[0m \u001b[0msanitizar\u001b[0m\u001b[0;34m(\u001b[0m\u001b[0mself\u001b[0m\u001b[0;34m,\u001b[0m \u001b[0murl\u001b[0m\u001b[0;34m)\u001b[0m\u001b[0;34m:\u001b[0m\u001b[0;34m\u001b[0m\u001b[0;34m\u001b[0m\u001b[0m\n",
            "\u001b[0;32m<ipython-input-16-c6f0e364790d>\u001b[0m in \u001b[0;36mvalidar\u001b[0;34m(self)\u001b[0m\n\u001b[1;32m     12\u001b[0m   \u001b[0;32mdef\u001b[0m \u001b[0mvalidar\u001b[0m\u001b[0;34m(\u001b[0m\u001b[0mself\u001b[0m\u001b[0;34m)\u001b[0m\u001b[0;34m:\u001b[0m\u001b[0;34m\u001b[0m\u001b[0;34m\u001b[0m\u001b[0m\n\u001b[1;32m     13\u001b[0m     \u001b[0;32mif\u001b[0m \u001b[0;32mnot\u001b[0m \u001b[0mself\u001b[0m\u001b[0;34m.\u001b[0m\u001b[0murl\u001b[0m\u001b[0;34m:\u001b[0m\u001b[0;34m\u001b[0m\u001b[0;34m\u001b[0m\u001b[0m\n\u001b[0;32m---> 14\u001b[0;31m       \u001b[0;32mraise\u001b[0m \u001b[0mValueError\u001b[0m\u001b[0;34m(\u001b[0m\u001b[0;34m'url vazia'\u001b[0m\u001b[0;34m)\u001b[0m\u001b[0;34m\u001b[0m\u001b[0;34m\u001b[0m\u001b[0m\n\u001b[0m\u001b[1;32m     15\u001b[0m \u001b[0;34m\u001b[0m\u001b[0m\n\u001b[1;32m     16\u001b[0m   \u001b[0;32mdef\u001b[0m \u001b[0mget_base\u001b[0m\u001b[0;34m(\u001b[0m\u001b[0mself\u001b[0m\u001b[0;34m)\u001b[0m\u001b[0;34m:\u001b[0m\u001b[0;34m\u001b[0m\u001b[0;34m\u001b[0m\u001b[0m\n",
            "\u001b[0;31mValueError\u001b[0m: url vazia"
          ]
        }
      ]
    },
    {
      "cell_type": "markdown",
      "source": [
        "Bloco 04<br>\n",
        "Expressões regulares"
      ],
      "metadata": {
        "id": "LSc0UvC5ufd7"
      }
    }
  ]
}